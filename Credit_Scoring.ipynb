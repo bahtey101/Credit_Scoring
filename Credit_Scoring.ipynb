{
 "cells": [
  {
   "cell_type": "markdown",
   "id": "ebb2f7ce",
   "metadata": {},
   "source": [
    "## Решение задачи кредитного скоринга с помощью методов машинного обучения"
   ]
  },
  {
   "cell_type": "markdown",
   "id": "e287777d",
   "metadata": {},
   "source": [
    "Важной задачей, которую решает машинное обучение в банках - *предсказание дефолта*. *Дефолт* - это невозврат кредита заемщиком в установленный срок (обычно срок состовляет три месяца). \n",
    "\n",
    "Результат работы модели для конкретного клиента - предсказать произойдет дефолт или нет.\n",
    "\n",
    "***\n",
    "**Бизнес постановка задачи**\n",
    "\n",
    "Банк по анкетным данным оценивает кредитоспособность потенциальных заёмщиков. Применение модели ясно:\n",
    "* выдавать кредит только тем заемщикам, которые смогут его выплатить.\n",
    "***\n",
    "\n",
    "**Постановка задачи анализа данных**\n",
    "\n",
    "Целью является построение модели для *классификации дефолтов*: на вход моель будет принимать данные о клиенте, а на выходе она должна выдавать следующие данные:\n",
    "* вероятность дефолта для данного клиента,\n",
    "* класс клиента (есть у него дефолт или нет).\n",
    "\n",
    "***\n",
    "**План анализа данных:**\n",
    "* подключить необходимые библиотеки,\n",
    "* загрузить и предобработать данные для обучения,\n",
    "* обучить модель на обучающей выборке,\n",
    "* загрузить и предобработать данные для тестирования,\n",
    "* проанализировать результат работы модели.\n",
    "***"
   ]
  },
  {
   "cell_type": "markdown",
   "id": "4f72f33e",
   "metadata": {},
   "source": [
    "### 1. Подключение библиотек"
   ]
  },
  {
   "cell_type": "markdown",
   "id": "37e5faa3",
   "metadata": {},
   "source": [
    "Для простоты работы с данными будем использовать библиотеку `pandas`, предназначенную для хранения, обработки и анализа данных."
   ]
  },
  {
   "cell_type": "code",
   "execution_count": 1,
   "id": "fdccd771",
   "metadata": {},
   "outputs": [],
   "source": [
    "import pandas as pd"
   ]
  },
  {
   "cell_type": "markdown",
   "id": "81836acc",
   "metadata": {},
   "source": [
    "Для визуализации исходных и полученных данных подключим библиотеку `matplotlib`, с помощью которой можно строить различные двумерные и трехмерные графики. "
   ]
  },
  {
   "cell_type": "code",
   "execution_count": 2,
   "id": "fe5a44fc",
   "metadata": {},
   "outputs": [],
   "source": [
    "import matplotlib.pyplot as plt"
   ]
  },
  {
   "cell_type": "markdown",
   "id": "8f482c0e",
   "metadata": {},
   "source": [
    "Подключим модуль `numpy`, который позволяет производить вычисления сразу над массивами чисел."
   ]
  },
  {
   "cell_type": "code",
   "execution_count": 3,
   "id": "4815bd43",
   "metadata": {},
   "outputs": [],
   "source": [
    "import numpy as np"
   ]
  },
  {
   "cell_type": "markdown",
   "id": "bcb17d82",
   "metadata": {},
   "source": [
    "Самая важная библиотека из всех что нам понадобятся - это `scikit-learn`. Она предоставляет широкий спектр инструментов для разработки и применения различных алгоритмов машинного обучения, включая классификацию, регрессию, кластеризацию, уменьшение размерности, отбор признаков и многое другое. Scikit-learn также предоставляет удобные средства для предобработки данных, оценки моделей и выбора оптимальных параметров.\n",
    "\n",
    "Выберем из неё следующее:\n",
    "* классификатор дерева решений - `DecisionTreeClassifier`;\n",
    "* метод для кросс-валидации - `KFold`;\n",
    "* несколько функций для расчёта метрик качества классификации."
   ]
  },
  {
   "cell_type": "code",
   "execution_count": 4,
   "id": "bd10062f",
   "metadata": {},
   "outputs": [],
   "source": [
    "# Классификатор дерева решений\n",
    "from sklearn.tree import DecisionTreeClassifier\n",
    "\n",
    "# k-fold кросс-валидация\n",
    "from sklearn.model_selection import KFold\n",
    "\n",
    "# Метрики качества:\n",
    "from sklearn.metrics import roc_curve, precision_recall_curve, auc\n",
    "from sklearn.metrics import confusion_matrix, f1_score, accuracy_score\n",
    "from sklearn.metrics import average_precision_score"
   ]
  },
  {
   "cell_type": "markdown",
   "id": "d260e71a",
   "metadata": {},
   "source": [
    "### 2. Загрузка и предобработка данных"
   ]
  },
  {
   "cell_type": "markdown",
   "id": "8e65141a",
   "metadata": {},
   "source": [
    "Мы будем использовать данные, которые состоят из двух частей: одна часть будет использоваться для обучения модели, вторая для тестирования.\n",
    "Данные взяты из: ..."
   ]
  },
  {
   "cell_type": "code",
   "execution_count": 178,
   "id": "cb64f34c",
   "metadata": {},
   "outputs": [],
   "source": [
    "# Данные для обучения\n",
    "training_data = pd.read_csv('training_data.csv')\n",
    "\n",
    "# Данные для тестирования\n",
    "test_data = pd.read_csv('test_data.csv')"
   ]
  },
  {
   "cell_type": "markdown",
   "id": "e990aeea",
   "metadata": {},
   "source": [
    "Рассмотрим подробнее данные которые будем использовать для обучения:"
   ]
  },
  {
   "cell_type": "code",
   "execution_count": 179,
   "id": "7944764f",
   "metadata": {},
   "outputs": [
    {
     "data": {
      "text/html": [
       "<div>\n",
       "<style scoped>\n",
       "    .dataframe tbody tr th:only-of-type {\n",
       "        vertical-align: middle;\n",
       "    }\n",
       "\n",
       "    .dataframe tbody tr th {\n",
       "        vertical-align: top;\n",
       "    }\n",
       "\n",
       "    .dataframe thead th {\n",
       "        text-align: right;\n",
       "    }\n",
       "</style>\n",
       "<table border=\"1\" class=\"dataframe\">\n",
       "  <thead>\n",
       "    <tr style=\"text-align: right;\">\n",
       "      <th></th>\n",
       "      <th>count</th>\n",
       "      <th>mean</th>\n",
       "      <th>std</th>\n",
       "      <th>min</th>\n",
       "      <th>25%</th>\n",
       "      <th>50%</th>\n",
       "      <th>75%</th>\n",
       "      <th>max</th>\n",
       "    </tr>\n",
       "  </thead>\n",
       "  <tbody>\n",
       "    <tr>\n",
       "      <th>SeriousDlqin2yrs</th>\n",
       "      <td>50000.0</td>\n",
       "      <td>0.066860</td>\n",
       "      <td>0.249782</td>\n",
       "      <td>0.0</td>\n",
       "      <td>0.000000</td>\n",
       "      <td>0.000000</td>\n",
       "      <td>0.000000</td>\n",
       "      <td>1.0</td>\n",
       "    </tr>\n",
       "    <tr>\n",
       "      <th>RevolvingUtilizationOfUnsecuredLines</th>\n",
       "      <td>50000.0</td>\n",
       "      <td>7.927880</td>\n",
       "      <td>332.393142</td>\n",
       "      <td>0.0</td>\n",
       "      <td>0.030096</td>\n",
       "      <td>0.154426</td>\n",
       "      <td>0.555651</td>\n",
       "      <td>50708.0</td>\n",
       "    </tr>\n",
       "    <tr>\n",
       "      <th>age</th>\n",
       "      <td>50000.0</td>\n",
       "      <td>52.240520</td>\n",
       "      <td>14.766593</td>\n",
       "      <td>21.0</td>\n",
       "      <td>41.000000</td>\n",
       "      <td>52.000000</td>\n",
       "      <td>63.000000</td>\n",
       "      <td>109.0</td>\n",
       "    </tr>\n",
       "    <tr>\n",
       "      <th>NumberOfTime30-59DaysPastDueNotWorse</th>\n",
       "      <td>50000.0</td>\n",
       "      <td>0.428220</td>\n",
       "      <td>4.269296</td>\n",
       "      <td>0.0</td>\n",
       "      <td>0.000000</td>\n",
       "      <td>0.000000</td>\n",
       "      <td>0.000000</td>\n",
       "      <td>98.0</td>\n",
       "    </tr>\n",
       "    <tr>\n",
       "      <th>DebtRatio</th>\n",
       "      <td>50000.0</td>\n",
       "      <td>352.441921</td>\n",
       "      <td>2006.426016</td>\n",
       "      <td>0.0</td>\n",
       "      <td>0.176304</td>\n",
       "      <td>0.366811</td>\n",
       "      <td>0.862599</td>\n",
       "      <td>329664.0</td>\n",
       "    </tr>\n",
       "    <tr>\n",
       "      <th>MonthlyIncome</th>\n",
       "      <td>40147.0</td>\n",
       "      <td>6642.232222</td>\n",
       "      <td>18122.708690</td>\n",
       "      <td>0.0</td>\n",
       "      <td>3400.000000</td>\n",
       "      <td>5400.000000</td>\n",
       "      <td>8250.000000</td>\n",
       "      <td>3008750.0</td>\n",
       "    </tr>\n",
       "    <tr>\n",
       "      <th>NumberOfOpenCreditLinesAndLoans</th>\n",
       "      <td>50000.0</td>\n",
       "      <td>8.476040</td>\n",
       "      <td>5.172756</td>\n",
       "      <td>0.0</td>\n",
       "      <td>5.000000</td>\n",
       "      <td>8.000000</td>\n",
       "      <td>11.000000</td>\n",
       "      <td>57.0</td>\n",
       "    </tr>\n",
       "    <tr>\n",
       "      <th>NumberOfTimes90DaysLate</th>\n",
       "      <td>50000.0</td>\n",
       "      <td>0.269920</td>\n",
       "      <td>4.243110</td>\n",
       "      <td>0.0</td>\n",
       "      <td>0.000000</td>\n",
       "      <td>0.000000</td>\n",
       "      <td>0.000000</td>\n",
       "      <td>98.0</td>\n",
       "    </tr>\n",
       "    <tr>\n",
       "      <th>NumberRealEstateLoansOrLines</th>\n",
       "      <td>50000.0</td>\n",
       "      <td>1.017500</td>\n",
       "      <td>1.120151</td>\n",
       "      <td>0.0</td>\n",
       "      <td>0.000000</td>\n",
       "      <td>1.000000</td>\n",
       "      <td>2.000000</td>\n",
       "      <td>32.0</td>\n",
       "    </tr>\n",
       "    <tr>\n",
       "      <th>NumberOfTime60-89DaysPastDueNotWorse</th>\n",
       "      <td>50000.0</td>\n",
       "      <td>0.246040</td>\n",
       "      <td>4.231055</td>\n",
       "      <td>0.0</td>\n",
       "      <td>0.000000</td>\n",
       "      <td>0.000000</td>\n",
       "      <td>0.000000</td>\n",
       "      <td>98.0</td>\n",
       "    </tr>\n",
       "    <tr>\n",
       "      <th>NumberOfDependents</th>\n",
       "      <td>48667.0</td>\n",
       "      <td>0.756180</td>\n",
       "      <td>1.114595</td>\n",
       "      <td>0.0</td>\n",
       "      <td>0.000000</td>\n",
       "      <td>0.000000</td>\n",
       "      <td>1.000000</td>\n",
       "      <td>10.0</td>\n",
       "    </tr>\n",
       "  </tbody>\n",
       "</table>\n",
       "</div>"
      ],
      "text/plain": [
       "                                        count         mean           std  \\\n",
       "SeriousDlqin2yrs                      50000.0     0.066860      0.249782   \n",
       "RevolvingUtilizationOfUnsecuredLines  50000.0     7.927880    332.393142   \n",
       "age                                   50000.0    52.240520     14.766593   \n",
       "NumberOfTime30-59DaysPastDueNotWorse  50000.0     0.428220      4.269296   \n",
       "DebtRatio                             50000.0   352.441921   2006.426016   \n",
       "MonthlyIncome                         40147.0  6642.232222  18122.708690   \n",
       "NumberOfOpenCreditLinesAndLoans       50000.0     8.476040      5.172756   \n",
       "NumberOfTimes90DaysLate               50000.0     0.269920      4.243110   \n",
       "NumberRealEstateLoansOrLines          50000.0     1.017500      1.120151   \n",
       "NumberOfTime60-89DaysPastDueNotWorse  50000.0     0.246040      4.231055   \n",
       "NumberOfDependents                    48667.0     0.756180      1.114595   \n",
       "\n",
       "                                       min          25%          50%  \\\n",
       "SeriousDlqin2yrs                       0.0     0.000000     0.000000   \n",
       "RevolvingUtilizationOfUnsecuredLines   0.0     0.030096     0.154426   \n",
       "age                                   21.0    41.000000    52.000000   \n",
       "NumberOfTime30-59DaysPastDueNotWorse   0.0     0.000000     0.000000   \n",
       "DebtRatio                              0.0     0.176304     0.366811   \n",
       "MonthlyIncome                          0.0  3400.000000  5400.000000   \n",
       "NumberOfOpenCreditLinesAndLoans        0.0     5.000000     8.000000   \n",
       "NumberOfTimes90DaysLate                0.0     0.000000     0.000000   \n",
       "NumberRealEstateLoansOrLines           0.0     0.000000     1.000000   \n",
       "NumberOfTime60-89DaysPastDueNotWorse   0.0     0.000000     0.000000   \n",
       "NumberOfDependents                     0.0     0.000000     0.000000   \n",
       "\n",
       "                                              75%        max  \n",
       "SeriousDlqin2yrs                         0.000000        1.0  \n",
       "RevolvingUtilizationOfUnsecuredLines     0.555651    50708.0  \n",
       "age                                     63.000000      109.0  \n",
       "NumberOfTime30-59DaysPastDueNotWorse     0.000000       98.0  \n",
       "DebtRatio                                0.862599   329664.0  \n",
       "MonthlyIncome                         8250.000000  3008750.0  \n",
       "NumberOfOpenCreditLinesAndLoans         11.000000       57.0  \n",
       "NumberOfTimes90DaysLate                  0.000000       98.0  \n",
       "NumberRealEstateLoansOrLines             2.000000       32.0  \n",
       "NumberOfTime60-89DaysPastDueNotWorse     0.000000       98.0  \n",
       "NumberOfDependents                       1.000000       10.0  "
      ]
     },
     "execution_count": 179,
     "metadata": {},
     "output_type": "execute_result"
    }
   ],
   "source": [
    "training_data.describe().T"
   ]
  },
  {
   "cell_type": "code",
   "execution_count": 180,
   "id": "d39ef8a3",
   "metadata": {},
   "outputs": [
    {
     "data": {
      "image/png": "[encoded data removed]",
      "text/plain": [
       "<Figure size 1000x600 with 1 Axes>"
      ]
     },
     "metadata": {},
     "output_type": "display_data"
    }
   ],
   "source": [
    "age_counts = pd.DataFrame(training_data['age'].value_counts().sort_index())\n",
    "age_counts = age_counts.reset_index()\n",
    "age_counts.columns = ['age', 'counts']\n",
    "\n",
    "fig = plt.figure(figsize = (10, 6))\n",
    "\n",
    "plt.bar(age_counts['age'], age_counts['counts'])\n",
    "plt.xlabel('Возраст')\n",
    "plt.ylabel('Число записей')\n",
    "plt.title('Число записей о клиентах разных возрастов')\n",
    "plt.xticks([x for x in range(20, 111, 5)])\n",
    "\n",
    "plt.show()"
   ]
  },
  {
   "cell_type": "markdown",
   "id": "8396d269",
   "metadata": {},
   "source": [
    "Обратим внимание, что данных о клиентах возрастом менее 25 и более 65 лет гораздо меньше в сравнении с остальными. Это может негативно сказаться на точности работы обученной на данной выборке модели. Поэтому оставим в ней данные только о тех пользователях, возраст которых находится в пределах от 25 до 65 лет."
   ]
  },
  {
   "cell_type": "code",
   "execution_count": 181,
   "id": "d2689293",
   "metadata": {},
   "outputs": [],
   "source": [
    "training_data = training_data[(training_data.age >= 25) & (training_data.age <= 65)]"
   ]
  },
  {
   "cell_type": "code",
   "execution_count": 182,
   "id": "0f648dba",
   "metadata": {},
   "outputs": [
    {
     "data": {
      "text/plain": [
       "[<matplotlib.lines.Line2D at 0x13781dbe370>]"
      ]
     },
     "execution_count": 182,
     "metadata": {},
     "output_type": "execute_result"
    },
    {
     "data": {
      "image/png": "[encoded data removed]",
      "text/plain": [
       "<Figure size 640x480 with 1 Axes>"
      ]
     },
     "metadata": {},
     "output_type": "display_data"
    }
   ],
   "source": [
    "# Зависимость выплаты кредита от ЗП\n"
   ]
  },
  {
   "cell_type": "markdown",
   "id": "c3716858",
   "metadata": {},
   "source": [
    "Далее следует избавиться от пропусков. Для этого заполним их средним значением, полученным с помощью метода `mean()` (для каждого столбца такое значение будет разным)."
   ]
  },
  {
   "cell_type": "code",
   "execution_count": 143,
   "id": "db45d0cf",
   "metadata": {},
   "outputs": [],
   "source": [
    "training_data.fillna(training_data.mean(), inplace=True)"
   ]
  },
  {
   "cell_type": "markdown",
   "id": "fa0b8abc",
   "metadata": {},
   "source": [
    "Проверим, все ли изменения внесены корректно:"
   ]
  },
  {
   "cell_type": "code",
   "execution_count": 144,
   "id": "afc8b2b7",
   "metadata": {},
   "outputs": [
    {
     "data": {
      "text/html": [
       "<div>\n",
       "<style scoped>\n",
       "    .dataframe tbody tr th:only-of-type {\n",
       "        vertical-align: middle;\n",
       "    }\n",
       "\n",
       "    .dataframe tbody tr th {\n",
       "        vertical-align: top;\n",
       "    }\n",
       "\n",
       "    .dataframe thead th {\n",
       "        text-align: right;\n",
       "    }\n",
       "</style>\n",
       "<table border=\"1\" class=\"dataframe\">\n",
       "  <thead>\n",
       "    <tr style=\"text-align: right;\">\n",
       "      <th></th>\n",
       "      <th>count</th>\n",
       "      <th>mean</th>\n",
       "      <th>std</th>\n",
       "      <th>min</th>\n",
       "      <th>25%</th>\n",
       "      <th>50%</th>\n",
       "      <th>75%</th>\n",
       "      <th>max</th>\n",
       "    </tr>\n",
       "  </thead>\n",
       "  <tbody>\n",
       "    <tr>\n",
       "      <th>SeriousDlqin2yrs</th>\n",
       "      <td>39849.0</td>\n",
       "      <td>0.076062</td>\n",
       "      <td>0.265101</td>\n",
       "      <td>0.0</td>\n",
       "      <td>0.000000</td>\n",
       "      <td>0.000000</td>\n",
       "      <td>0.000000</td>\n",
       "      <td>1.0</td>\n",
       "    </tr>\n",
       "    <tr>\n",
       "      <th>RevolvingUtilizationOfUnsecuredLines</th>\n",
       "      <td>39849.0</td>\n",
       "      <td>8.801246</td>\n",
       "      <td>366.314895</td>\n",
       "      <td>0.0</td>\n",
       "      <td>0.041821</td>\n",
       "      <td>0.202134</td>\n",
       "      <td>0.622783</td>\n",
       "      <td>50708.0</td>\n",
       "    </tr>\n",
       "    <tr>\n",
       "      <th>age</th>\n",
       "      <td>39849.0</td>\n",
       "      <td>47.563979</td>\n",
       "      <td>10.685453</td>\n",
       "      <td>25.0</td>\n",
       "      <td>39.000000</td>\n",
       "      <td>48.000000</td>\n",
       "      <td>56.000000</td>\n",
       "      <td>65.0</td>\n",
       "    </tr>\n",
       "    <tr>\n",
       "      <th>NumberOfTime30-59DaysPastDueNotWorse</th>\n",
       "      <td>39849.0</td>\n",
       "      <td>0.429873</td>\n",
       "      <td>3.951556</td>\n",
       "      <td>0.0</td>\n",
       "      <td>0.000000</td>\n",
       "      <td>0.000000</td>\n",
       "      <td>0.000000</td>\n",
       "      <td>98.0</td>\n",
       "    </tr>\n",
       "    <tr>\n",
       "      <th>DebtRatio</th>\n",
       "      <td>39849.0</td>\n",
       "      <td>367.635109</td>\n",
       "      <td>2118.035210</td>\n",
       "      <td>0.0</td>\n",
       "      <td>0.199874</td>\n",
       "      <td>0.376297</td>\n",
       "      <td>0.783243</td>\n",
       "      <td>329664.0</td>\n",
       "    </tr>\n",
       "    <tr>\n",
       "      <th>MonthlyIncome</th>\n",
       "      <td>39849.0</td>\n",
       "      <td>6860.560448</td>\n",
       "      <td>18038.292424</td>\n",
       "      <td>0.0</td>\n",
       "      <td>4000.000000</td>\n",
       "      <td>6614.000000</td>\n",
       "      <td>7700.000000</td>\n",
       "      <td>3008750.0</td>\n",
       "    </tr>\n",
       "    <tr>\n",
       "      <th>NumberOfOpenCreditLinesAndLoans</th>\n",
       "      <td>39849.0</td>\n",
       "      <td>8.584055</td>\n",
       "      <td>5.129077</td>\n",
       "      <td>0.0</td>\n",
       "      <td>5.000000</td>\n",
       "      <td>8.000000</td>\n",
       "      <td>11.000000</td>\n",
       "      <td>57.0</td>\n",
       "    </tr>\n",
       "    <tr>\n",
       "      <th>NumberOfTimes90DaysLate</th>\n",
       "      <td>39849.0</td>\n",
       "      <td>0.257171</td>\n",
       "      <td>3.920711</td>\n",
       "      <td>0.0</td>\n",
       "      <td>0.000000</td>\n",
       "      <td>0.000000</td>\n",
       "      <td>0.000000</td>\n",
       "      <td>98.0</td>\n",
       "    </tr>\n",
       "    <tr>\n",
       "      <th>NumberRealEstateLoansOrLines</th>\n",
       "      <td>39849.0</td>\n",
       "      <td>1.091721</td>\n",
       "      <td>1.129576</td>\n",
       "      <td>0.0</td>\n",
       "      <td>0.000000</td>\n",
       "      <td>1.000000</td>\n",
       "      <td>2.000000</td>\n",
       "      <td>32.0</td>\n",
       "    </tr>\n",
       "    <tr>\n",
       "      <th>NumberOfTime60-89DaysPastDueNotWorse</th>\n",
       "      <td>39849.0</td>\n",
       "      <td>0.228161</td>\n",
       "      <td>3.904584</td>\n",
       "      <td>0.0</td>\n",
       "      <td>0.000000</td>\n",
       "      <td>0.000000</td>\n",
       "      <td>0.000000</td>\n",
       "      <td>98.0</td>\n",
       "    </tr>\n",
       "    <tr>\n",
       "      <th>NumberOfDependents</th>\n",
       "      <td>39849.0</td>\n",
       "      <td>0.895116</td>\n",
       "      <td>1.168260</td>\n",
       "      <td>0.0</td>\n",
       "      <td>0.000000</td>\n",
       "      <td>0.000000</td>\n",
       "      <td>2.000000</td>\n",
       "      <td>10.0</td>\n",
       "    </tr>\n",
       "  </tbody>\n",
       "</table>\n",
       "</div>"
      ],
      "text/plain": [
       "                                        count         mean           std  \\\n",
       "SeriousDlqin2yrs                      39849.0     0.076062      0.265101   \n",
       "RevolvingUtilizationOfUnsecuredLines  39849.0     8.801246    366.314895   \n",
       "age                                   39849.0    47.563979     10.685453   \n",
       "NumberOfTime30-59DaysPastDueNotWorse  39849.0     0.429873      3.951556   \n",
       "DebtRatio                             39849.0   367.635109   2118.035210   \n",
       "MonthlyIncome                         39849.0  6860.560448  18038.292424   \n",
       "NumberOfOpenCreditLinesAndLoans       39849.0     8.584055      5.129077   \n",
       "NumberOfTimes90DaysLate               39849.0     0.257171      3.920711   \n",
       "NumberRealEstateLoansOrLines          39849.0     1.091721      1.129576   \n",
       "NumberOfTime60-89DaysPastDueNotWorse  39849.0     0.228161      3.904584   \n",
       "NumberOfDependents                    39849.0     0.895116      1.168260   \n",
       "\n",
       "                                       min          25%          50%  \\\n",
       "SeriousDlqin2yrs                       0.0     0.000000     0.000000   \n",
       "RevolvingUtilizationOfUnsecuredLines   0.0     0.041821     0.202134   \n",
       "age                                   25.0    39.000000    48.000000   \n",
       "NumberOfTime30-59DaysPastDueNotWorse   0.0     0.000000     0.000000   \n",
       "DebtRatio                              0.0     0.199874     0.376297   \n",
       "MonthlyIncome                          0.0  4000.000000  6614.000000   \n",
       "NumberOfOpenCreditLinesAndLoans        0.0     5.000000     8.000000   \n",
       "NumberOfTimes90DaysLate                0.0     0.000000     0.000000   \n",
       "NumberRealEstateLoansOrLines           0.0     0.000000     1.000000   \n",
       "NumberOfTime60-89DaysPastDueNotWorse   0.0     0.000000     0.000000   \n",
       "NumberOfDependents                     0.0     0.000000     0.000000   \n",
       "\n",
       "                                              75%        max  \n",
       "SeriousDlqin2yrs                         0.000000        1.0  \n",
       "RevolvingUtilizationOfUnsecuredLines     0.622783    50708.0  \n",
       "age                                     56.000000       65.0  \n",
       "NumberOfTime30-59DaysPastDueNotWorse     0.000000       98.0  \n",
       "DebtRatio                                0.783243   329664.0  \n",
       "MonthlyIncome                         7700.000000  3008750.0  \n",
       "NumberOfOpenCreditLinesAndLoans         11.000000       57.0  \n",
       "NumberOfTimes90DaysLate                  0.000000       98.0  \n",
       "NumberRealEstateLoansOrLines             2.000000       32.0  \n",
       "NumberOfTime60-89DaysPastDueNotWorse     0.000000       98.0  \n",
       "NumberOfDependents                       2.000000       10.0  "
      ]
     },
     "execution_count": 144,
     "metadata": {},
     "output_type": "execute_result"
    }
   ],
   "source": [
    "training_data.describe().T"
   ]
  },
  {
   "cell_type": "markdown",
   "id": "319d6dde",
   "metadata": {},
   "source": [
    "Наша задача спрогнозировать дефолт, поэтому целевая переменная - наличие дефолта. В нашем случае целевой признак SeriousDlqin2yrs - это наличие серьёзной просрочки по платежу за последние 2 года."
   ]
  },
  {
   "cell_type": "code",
   "execution_count": 145,
   "id": "940f8c2f",
   "metadata": {},
   "outputs": [],
   "source": [
    "target_var_name = 'SeriousDlqin2yrs'"
   ]
  },
  {
   "cell_type": "markdown",
   "id": "104e875d",
   "metadata": {},
   "source": [
    "Посчитаем количество плохих и хороших клиентов. Плохими будем называть клиентов у которых есть такая просрочка, хорошими - тех, у кого её нет."
   ]
  },
  {
   "cell_type": "code",
   "execution_count": 146,
   "id": "af935e41",
   "metadata": {},
   "outputs": [
    {
     "data": {
      "image/png": "[encoded data removed]",
      "text/plain": [
       "<Figure size 640x480 with 1 Axes>"
      ]
     },
     "metadata": {},
     "output_type": "display_data"
    }
   ],
   "source": [
    "plt.title('Соотношение плохих и хороших клиентов')\n",
    "\n",
    "plt.pie(training_data[target_var_name].value_counts(), wedgeprops=dict(width=0.5))\n",
    "\n",
    "plt.legend(['Хорошие', 'Плохие'], prop={'size': 8})\n",
    "\n",
    "plt.show()"
   ]
  },
  {
   "cell_type": "markdown",
   "id": "8d25844d",
   "metadata": {},
   "source": [
    "***\n",
    "На последнем этапе запишем столбец со значениями ключевой переменной `target_var_name` в новую переменную `target_column` и удалим его из массива данных `training_data`.\n",
    "***"
   ]
  },
  {
   "cell_type": "code",
   "execution_count": 147,
   "id": "3b358d74",
   "metadata": {},
   "outputs": [],
   "source": [
    "target_values = training_data[target_var_name]\n",
    "\n",
    "training_data = training_data.drop(target_var_name, axis=1)"
   ]
  },
  {
   "cell_type": "markdown",
   "id": "a15e8022",
   "metadata": {},
   "source": [
    "Проверим всё ли прошло успешно (должно остаться 10 столбцов):"
   ]
  },
  {
   "cell_type": "code",
   "execution_count": 148,
   "id": "df5d9746",
   "metadata": {},
   "outputs": [
    {
     "data": {
      "text/plain": [
       "(39849, 10)"
      ]
     },
     "execution_count": 148,
     "metadata": {},
     "output_type": "execute_result"
    }
   ],
   "source": [
    "training_data.shape"
   ]
  },
  {
   "cell_type": "markdown",
   "id": "23f22e87",
   "metadata": {},
   "source": [
    "### 3. Обучение модели\n",
    "\n",
    "***\n",
    "Воспользуемся следующими методами для построения моделей классификации и сравним их между собой:\n",
    "* логистическая регрессия\n",
    "* случайный лес\n",
    "***\n",
    "\n",
    "Для корректной работы с методами нам понадобятся два модуля из вышеупомянутой библиотеки **sklearn**:\n",
    "* `linear_model` - в нём находятся все линейные модели, в том числе модель логистической регрессии\n",
    "* `ensemble` - в данном модуле находятся модели, основанные на ансамбле деревьев решений"
   ]
  },
  {
   "cell_type": "code",
   "execution_count": 124,
   "id": "2507ce85",
   "metadata": {},
   "outputs": [],
   "source": [
    "from sklearn import linear_model, ensemble"
   ]
  },
  {
   "cell_type": "markdown",
   "id": "a19bb66d",
   "metadata": {},
   "source": [
    "Теперь можно приступать к созданию. Начнём с модели логистической регрессии, в конструкторе которой, установим значение макисмального числа итераций `max_iter` равным пятистам:"
   ]
  },
  {
   "cell_type": "code",
   "execution_count": 172,
   "id": "518e9704",
   "metadata": {},
   "outputs": [],
   "source": [
    "logictic_reg_model = linear_model.LogisticRegression(max_iter=500)"
   ]
  },
  {
   "cell_type": "code",
   "execution_count": 173,
   "id": "36d85d00",
   "metadata": {},
   "outputs": [
    {
     "data": {
      "text/html": [
       "<style>#sk-container-id-19 {color: black;}#sk-container-id-19 pre{padding: 0;}#sk-container-id-19 div.sk-toggleable {background-color: white;}#sk-container-id-19 label.sk-toggleable__label {cursor: pointer;display: block;width: 100%;margin-bottom: 0;padding: 0.3em;box-sizing: border-box;text-align: center;}#sk-container-id-19 label.sk-toggleable__label-arrow:before {content: \"▸\";float: left;margin-right: 0.25em;color: #696969;}#sk-container-id-19 label.sk-toggleable__label-arrow:hover:before {color: black;}#sk-container-id-19 div.sk-estimator:hover label.sk-toggleable__label-arrow:before {color: black;}#sk-container-id-19 div.sk-toggleable__content {max-height: 0;max-width: 0;overflow: hidden;text-align: left;background-color: #f0f8ff;}#sk-container-id-19 div.sk-toggleable__content pre {margin: 0.2em;color: black;border-radius: 0.25em;background-color: #f0f8ff;}#sk-container-id-19 input.sk-toggleable__control:checked~div.sk-toggleable__content {max-height: 200px;max-width: 100%;overflow: auto;}#sk-container-id-19 input.sk-toggleable__control:checked~label.sk-toggleable__label-arrow:before {content: \"▾\";}#sk-container-id-19 div.sk-estimator input.sk-toggleable__control:checked~label.sk-toggleable__label {background-color: #d4ebff;}#sk-container-id-19 div.sk-label input.sk-toggleable__control:checked~label.sk-toggleable__label {background-color: #d4ebff;}#sk-container-id-19 input.sk-hidden--visually {border: 0;clip: rect(1px 1px 1px 1px);clip: rect(1px, 1px, 1px, 1px);height: 1px;margin: -1px;overflow: hidden;padding: 0;position: absolute;width: 1px;}#sk-container-id-19 div.sk-estimator {font-family: monospace;background-color: #f0f8ff;border: 1px dotted black;border-radius: 0.25em;box-sizing: border-box;margin-bottom: 0.5em;}#sk-container-id-19 div.sk-estimator:hover {background-color: #d4ebff;}#sk-container-id-19 div.sk-parallel-item::after {content: \"\";width: 100%;border-bottom: 1px solid gray;flex-grow: 1;}#sk-container-id-19 div.sk-label:hover label.sk-toggleable__label {background-color: #d4ebff;}#sk-container-id-19 div.sk-serial::before {content: \"\";position: absolute;border-left: 1px solid gray;box-sizing: border-box;top: 0;bottom: 0;left: 50%;z-index: 0;}#sk-container-id-19 div.sk-serial {display: flex;flex-direction: column;align-items: center;background-color: white;padding-right: 0.2em;padding-left: 0.2em;position: relative;}#sk-container-id-19 div.sk-item {position: relative;z-index: 1;}#sk-container-id-19 div.sk-parallel {display: flex;align-items: stretch;justify-content: center;background-color: white;position: relative;}#sk-container-id-19 div.sk-item::before, #sk-container-id-19 div.sk-parallel-item::before {content: \"\";position: absolute;border-left: 1px solid gray;box-sizing: border-box;top: 0;bottom: 0;left: 50%;z-index: -1;}#sk-container-id-19 div.sk-parallel-item {display: flex;flex-direction: column;z-index: 1;position: relative;background-color: white;}#sk-container-id-19 div.sk-parallel-item:first-child::after {align-self: flex-end;width: 50%;}#sk-container-id-19 div.sk-parallel-item:last-child::after {align-self: flex-start;width: 50%;}#sk-container-id-19 div.sk-parallel-item:only-child::after {width: 0;}#sk-container-id-19 div.sk-dashed-wrapped {border: 1px dashed gray;margin: 0 0.4em 0.5em 0.4em;box-sizing: border-box;padding-bottom: 0.4em;background-color: white;}#sk-container-id-19 div.sk-label label {font-family: monospace;font-weight: bold;display: inline-block;line-height: 1.2em;}#sk-container-id-19 div.sk-label-container {text-align: center;}#sk-container-id-19 div.sk-container {/* jupyter's `normalize.less` sets `[hidden] { display: none; }` but bootstrap.min.css set `[hidden] { display: none !important; }` so we also need the `!important` here to be able to override the default hidden behavior on the sphinx rendered scikit-learn.org. See: https://github.com/scikit-learn/scikit-learn/issues/21755 */display: inline-block !important;position: relative;}#sk-container-id-19 div.sk-text-repr-fallback {display: none;}</style><div id=\"sk-container-id-19\" class=\"sk-top-container\"><div class=\"sk-text-repr-fallback\"><pre>LogisticRegression(max_iter=500)</pre><b>In a Jupyter environment, please rerun this cell to show the HTML representation or trust the notebook. <br />On GitHub, the HTML representation is unable to render, please try loading this page with nbviewer.org.</b></div><div class=\"sk-container\" hidden><div class=\"sk-item\"><div class=\"sk-estimator sk-toggleable\"><input class=\"sk-toggleable__control sk-hidden--visually\" id=\"sk-estimator-id-19\" type=\"checkbox\" checked><label for=\"sk-estimator-id-19\" class=\"sk-toggleable__label sk-toggleable__label-arrow\">LogisticRegression</label><div class=\"sk-toggleable__content\"><pre>LogisticRegression(max_iter=500)</pre></div></div></div></div></div>"
      ],
      "text/plain": [
       "LogisticRegression(max_iter=500)"
      ]
     },
     "execution_count": 173,
     "metadata": {},
     "output_type": "execute_result"
    }
   ],
   "source": [
    "logictic_reg_model"
   ]
  },
  {
   "cell_type": "markdown",
   "id": "0c3fe41d",
   "metadata": {},
   "source": [
    "***\n",
    "Переходим к созданию модели случайного леса. У него есть множество параметров, наиболее важными из которых являются:\n",
    "* `n_estimators` - количество деревьев в лесу,\n",
    "* `max_depth` - максимальная глубина у дерева,\n",
    "* `min_samples_leaf` - максимальное число объектов, которые могут попасть в лист дерева. \n",
    "***\n",
    "\n",
    "Мы воспользуемся всего одним:"
   ]
  },
  {
   "cell_type": "code",
   "execution_count": 174,
   "id": "16aba46b",
   "metadata": {},
   "outputs": [],
   "source": [
    "random_forest_model = ensemble.RandomForestClassifier(n_estimators=100)"
   ]
  },
  {
   "cell_type": "code",
   "execution_count": 175,
   "id": "a11c5c35",
   "metadata": {},
   "outputs": [
    {
     "data": {
      "text/html": [
       "<style>#sk-container-id-20 {color: black;}#sk-container-id-20 pre{padding: 0;}#sk-container-id-20 div.sk-toggleable {background-color: white;}#sk-container-id-20 label.sk-toggleable__label {cursor: pointer;display: block;width: 100%;margin-bottom: 0;padding: 0.3em;box-sizing: border-box;text-align: center;}#sk-container-id-20 label.sk-toggleable__label-arrow:before {content: \"▸\";float: left;margin-right: 0.25em;color: #696969;}#sk-container-id-20 label.sk-toggleable__label-arrow:hover:before {color: black;}#sk-container-id-20 div.sk-estimator:hover label.sk-toggleable__label-arrow:before {color: black;}#sk-container-id-20 div.sk-toggleable__content {max-height: 0;max-width: 0;overflow: hidden;text-align: left;background-color: #f0f8ff;}#sk-container-id-20 div.sk-toggleable__content pre {margin: 0.2em;color: black;border-radius: 0.25em;background-color: #f0f8ff;}#sk-container-id-20 input.sk-toggleable__control:checked~div.sk-toggleable__content {max-height: 200px;max-width: 100%;overflow: auto;}#sk-container-id-20 input.sk-toggleable__control:checked~label.sk-toggleable__label-arrow:before {content: \"▾\";}#sk-container-id-20 div.sk-estimator input.sk-toggleable__control:checked~label.sk-toggleable__label {background-color: #d4ebff;}#sk-container-id-20 div.sk-label input.sk-toggleable__control:checked~label.sk-toggleable__label {background-color: #d4ebff;}#sk-container-id-20 input.sk-hidden--visually {border: 0;clip: rect(1px 1px 1px 1px);clip: rect(1px, 1px, 1px, 1px);height: 1px;margin: -1px;overflow: hidden;padding: 0;position: absolute;width: 1px;}#sk-container-id-20 div.sk-estimator {font-family: monospace;background-color: #f0f8ff;border: 1px dotted black;border-radius: 0.25em;box-sizing: border-box;margin-bottom: 0.5em;}#sk-container-id-20 div.sk-estimator:hover {background-color: #d4ebff;}#sk-container-id-20 div.sk-parallel-item::after {content: \"\";width: 100%;border-bottom: 1px solid gray;flex-grow: 1;}#sk-container-id-20 div.sk-label:hover label.sk-toggleable__label {background-color: #d4ebff;}#sk-container-id-20 div.sk-serial::before {content: \"\";position: absolute;border-left: 1px solid gray;box-sizing: border-box;top: 0;bottom: 0;left: 50%;z-index: 0;}#sk-container-id-20 div.sk-serial {display: flex;flex-direction: column;align-items: center;background-color: white;padding-right: 0.2em;padding-left: 0.2em;position: relative;}#sk-container-id-20 div.sk-item {position: relative;z-index: 1;}#sk-container-id-20 div.sk-parallel {display: flex;align-items: stretch;justify-content: center;background-color: white;position: relative;}#sk-container-id-20 div.sk-item::before, #sk-container-id-20 div.sk-parallel-item::before {content: \"\";position: absolute;border-left: 1px solid gray;box-sizing: border-box;top: 0;bottom: 0;left: 50%;z-index: -1;}#sk-container-id-20 div.sk-parallel-item {display: flex;flex-direction: column;z-index: 1;position: relative;background-color: white;}#sk-container-id-20 div.sk-parallel-item:first-child::after {align-self: flex-end;width: 50%;}#sk-container-id-20 div.sk-parallel-item:last-child::after {align-self: flex-start;width: 50%;}#sk-container-id-20 div.sk-parallel-item:only-child::after {width: 0;}#sk-container-id-20 div.sk-dashed-wrapped {border: 1px dashed gray;margin: 0 0.4em 0.5em 0.4em;box-sizing: border-box;padding-bottom: 0.4em;background-color: white;}#sk-container-id-20 div.sk-label label {font-family: monospace;font-weight: bold;display: inline-block;line-height: 1.2em;}#sk-container-id-20 div.sk-label-container {text-align: center;}#sk-container-id-20 div.sk-container {/* jupyter's `normalize.less` sets `[hidden] { display: none; }` but bootstrap.min.css set `[hidden] { display: none !important; }` so we also need the `!important` here to be able to override the default hidden behavior on the sphinx rendered scikit-learn.org. See: https://github.com/scikit-learn/scikit-learn/issues/21755 */display: inline-block !important;position: relative;}#sk-container-id-20 div.sk-text-repr-fallback {display: none;}</style><div id=\"sk-container-id-20\" class=\"sk-top-container\"><div class=\"sk-text-repr-fallback\"><pre>RandomForestClassifier()</pre><b>In a Jupyter environment, please rerun this cell to show the HTML representation or trust the notebook. <br />On GitHub, the HTML representation is unable to render, please try loading this page with nbviewer.org.</b></div><div class=\"sk-container\" hidden><div class=\"sk-item\"><div class=\"sk-estimator sk-toggleable\"><input class=\"sk-toggleable__control sk-hidden--visually\" id=\"sk-estimator-id-20\" type=\"checkbox\" checked><label for=\"sk-estimator-id-20\" class=\"sk-toggleable__label sk-toggleable__label-arrow\">RandomForestClassifier</label><div class=\"sk-toggleable__content\"><pre>RandomForestClassifier()</pre></div></div></div></div></div>"
      ],
      "text/plain": [
       "RandomForestClassifier()"
      ]
     },
     "execution_count": 175,
     "metadata": {},
     "output_type": "execute_result"
    }
   ],
   "source": [
    "random_forest_model"
   ]
  },
  {
   "cell_type": "markdown",
   "id": "c6e047c5",
   "metadata": {},
   "source": [
    "Теперь, когда прототипы моделей уже созданы, можно приступить непосредственно к обучению модели. \n",
    "\n",
    "Для этого мы используем метод `fit()`, в который в качестве параметров нужно передать обучающую выборку и столбец значений ключевой переменной (в нашем случае: *training_data* и *target_values*):"
   ]
  },
  {
   "cell_type": "code",
   "execution_count": 176,
   "id": "3b1f459f",
   "metadata": {},
   "outputs": [
    {
     "data": {
      "text/html": [
       "<style>#sk-container-id-21 {color: black;}#sk-container-id-21 pre{padding: 0;}#sk-container-id-21 div.sk-toggleable {background-color: white;}#sk-container-id-21 label.sk-toggleable__label {cursor: pointer;display: block;width: 100%;margin-bottom: 0;padding: 0.3em;box-sizing: border-box;text-align: center;}#sk-container-id-21 label.sk-toggleable__label-arrow:before {content: \"▸\";float: left;margin-right: 0.25em;color: #696969;}#sk-container-id-21 label.sk-toggleable__label-arrow:hover:before {color: black;}#sk-container-id-21 div.sk-estimator:hover label.sk-toggleable__label-arrow:before {color: black;}#sk-container-id-21 div.sk-toggleable__content {max-height: 0;max-width: 0;overflow: hidden;text-align: left;background-color: #f0f8ff;}#sk-container-id-21 div.sk-toggleable__content pre {margin: 0.2em;color: black;border-radius: 0.25em;background-color: #f0f8ff;}#sk-container-id-21 input.sk-toggleable__control:checked~div.sk-toggleable__content {max-height: 200px;max-width: 100%;overflow: auto;}#sk-container-id-21 input.sk-toggleable__control:checked~label.sk-toggleable__label-arrow:before {content: \"▾\";}#sk-container-id-21 div.sk-estimator input.sk-toggleable__control:checked~label.sk-toggleable__label {background-color: #d4ebff;}#sk-container-id-21 div.sk-label input.sk-toggleable__control:checked~label.sk-toggleable__label {background-color: #d4ebff;}#sk-container-id-21 input.sk-hidden--visually {border: 0;clip: rect(1px 1px 1px 1px);clip: rect(1px, 1px, 1px, 1px);height: 1px;margin: -1px;overflow: hidden;padding: 0;position: absolute;width: 1px;}#sk-container-id-21 div.sk-estimator {font-family: monospace;background-color: #f0f8ff;border: 1px dotted black;border-radius: 0.25em;box-sizing: border-box;margin-bottom: 0.5em;}#sk-container-id-21 div.sk-estimator:hover {background-color: #d4ebff;}#sk-container-id-21 div.sk-parallel-item::after {content: \"\";width: 100%;border-bottom: 1px solid gray;flex-grow: 1;}#sk-container-id-21 div.sk-label:hover label.sk-toggleable__label {background-color: #d4ebff;}#sk-container-id-21 div.sk-serial::before {content: \"\";position: absolute;border-left: 1px solid gray;box-sizing: border-box;top: 0;bottom: 0;left: 50%;z-index: 0;}#sk-container-id-21 div.sk-serial {display: flex;flex-direction: column;align-items: center;background-color: white;padding-right: 0.2em;padding-left: 0.2em;position: relative;}#sk-container-id-21 div.sk-item {position: relative;z-index: 1;}#sk-container-id-21 div.sk-parallel {display: flex;align-items: stretch;justify-content: center;background-color: white;position: relative;}#sk-container-id-21 div.sk-item::before, #sk-container-id-21 div.sk-parallel-item::before {content: \"\";position: absolute;border-left: 1px solid gray;box-sizing: border-box;top: 0;bottom: 0;left: 50%;z-index: -1;}#sk-container-id-21 div.sk-parallel-item {display: flex;flex-direction: column;z-index: 1;position: relative;background-color: white;}#sk-container-id-21 div.sk-parallel-item:first-child::after {align-self: flex-end;width: 50%;}#sk-container-id-21 div.sk-parallel-item:last-child::after {align-self: flex-start;width: 50%;}#sk-container-id-21 div.sk-parallel-item:only-child::after {width: 0;}#sk-container-id-21 div.sk-dashed-wrapped {border: 1px dashed gray;margin: 0 0.4em 0.5em 0.4em;box-sizing: border-box;padding-bottom: 0.4em;background-color: white;}#sk-container-id-21 div.sk-label label {font-family: monospace;font-weight: bold;display: inline-block;line-height: 1.2em;}#sk-container-id-21 div.sk-label-container {text-align: center;}#sk-container-id-21 div.sk-container {/* jupyter's `normalize.less` sets `[hidden] { display: none; }` but bootstrap.min.css set `[hidden] { display: none !important; }` so we also need the `!important` here to be able to override the default hidden behavior on the sphinx rendered scikit-learn.org. See: https://github.com/scikit-learn/scikit-learn/issues/21755 */display: inline-block !important;position: relative;}#sk-container-id-21 div.sk-text-repr-fallback {display: none;}</style><div id=\"sk-container-id-21\" class=\"sk-top-container\"><div class=\"sk-text-repr-fallback\"><pre>LogisticRegression(max_iter=500)</pre><b>In a Jupyter environment, please rerun this cell to show the HTML representation or trust the notebook. <br />On GitHub, the HTML representation is unable to render, please try loading this page with nbviewer.org.</b></div><div class=\"sk-container\" hidden><div class=\"sk-item\"><div class=\"sk-estimator sk-toggleable\"><input class=\"sk-toggleable__control sk-hidden--visually\" id=\"sk-estimator-id-21\" type=\"checkbox\" checked><label for=\"sk-estimator-id-21\" class=\"sk-toggleable__label sk-toggleable__label-arrow\">LogisticRegression</label><div class=\"sk-toggleable__content\"><pre>LogisticRegression(max_iter=500)</pre></div></div></div></div></div>"
      ],
      "text/plain": [
       "LogisticRegression(max_iter=500)"
      ]
     },
     "execution_count": 176,
     "metadata": {},
     "output_type": "execute_result"
    }
   ],
   "source": [
    "logictic_reg_model.fit(training_data, target_values)"
   ]
  },
  {
   "cell_type": "code",
   "execution_count": 177,
   "id": "5cdb3a09",
   "metadata": {},
   "outputs": [
    {
     "data": {
      "text/html": [
       "<style>#sk-container-id-22 {color: black;}#sk-container-id-22 pre{padding: 0;}#sk-container-id-22 div.sk-toggleable {background-color: white;}#sk-container-id-22 label.sk-toggleable__label {cursor: pointer;display: block;width: 100%;margin-bottom: 0;padding: 0.3em;box-sizing: border-box;text-align: center;}#sk-container-id-22 label.sk-toggleable__label-arrow:before {content: \"▸\";float: left;margin-right: 0.25em;color: #696969;}#sk-container-id-22 label.sk-toggleable__label-arrow:hover:before {color: black;}#sk-container-id-22 div.sk-estimator:hover label.sk-toggleable__label-arrow:before {color: black;}#sk-container-id-22 div.sk-toggleable__content {max-height: 0;max-width: 0;overflow: hidden;text-align: left;background-color: #f0f8ff;}#sk-container-id-22 div.sk-toggleable__content pre {margin: 0.2em;color: black;border-radius: 0.25em;background-color: #f0f8ff;}#sk-container-id-22 input.sk-toggleable__control:checked~div.sk-toggleable__content {max-height: 200px;max-width: 100%;overflow: auto;}#sk-container-id-22 input.sk-toggleable__control:checked~label.sk-toggleable__label-arrow:before {content: \"▾\";}#sk-container-id-22 div.sk-estimator input.sk-toggleable__control:checked~label.sk-toggleable__label {background-color: #d4ebff;}#sk-container-id-22 div.sk-label input.sk-toggleable__control:checked~label.sk-toggleable__label {background-color: #d4ebff;}#sk-container-id-22 input.sk-hidden--visually {border: 0;clip: rect(1px 1px 1px 1px);clip: rect(1px, 1px, 1px, 1px);height: 1px;margin: -1px;overflow: hidden;padding: 0;position: absolute;width: 1px;}#sk-container-id-22 div.sk-estimator {font-family: monospace;background-color: #f0f8ff;border: 1px dotted black;border-radius: 0.25em;box-sizing: border-box;margin-bottom: 0.5em;}#sk-container-id-22 div.sk-estimator:hover {background-color: #d4ebff;}#sk-container-id-22 div.sk-parallel-item::after {content: \"\";width: 100%;border-bottom: 1px solid gray;flex-grow: 1;}#sk-container-id-22 div.sk-label:hover label.sk-toggleable__label {background-color: #d4ebff;}#sk-container-id-22 div.sk-serial::before {content: \"\";position: absolute;border-left: 1px solid gray;box-sizing: border-box;top: 0;bottom: 0;left: 50%;z-index: 0;}#sk-container-id-22 div.sk-serial {display: flex;flex-direction: column;align-items: center;background-color: white;padding-right: 0.2em;padding-left: 0.2em;position: relative;}#sk-container-id-22 div.sk-item {position: relative;z-index: 1;}#sk-container-id-22 div.sk-parallel {display: flex;align-items: stretch;justify-content: center;background-color: white;position: relative;}#sk-container-id-22 div.sk-item::before, #sk-container-id-22 div.sk-parallel-item::before {content: \"\";position: absolute;border-left: 1px solid gray;box-sizing: border-box;top: 0;bottom: 0;left: 50%;z-index: -1;}#sk-container-id-22 div.sk-parallel-item {display: flex;flex-direction: column;z-index: 1;position: relative;background-color: white;}#sk-container-id-22 div.sk-parallel-item:first-child::after {align-self: flex-end;width: 50%;}#sk-container-id-22 div.sk-parallel-item:last-child::after {align-self: flex-start;width: 50%;}#sk-container-id-22 div.sk-parallel-item:only-child::after {width: 0;}#sk-container-id-22 div.sk-dashed-wrapped {border: 1px dashed gray;margin: 0 0.4em 0.5em 0.4em;box-sizing: border-box;padding-bottom: 0.4em;background-color: white;}#sk-container-id-22 div.sk-label label {font-family: monospace;font-weight: bold;display: inline-block;line-height: 1.2em;}#sk-container-id-22 div.sk-label-container {text-align: center;}#sk-container-id-22 div.sk-container {/* jupyter's `normalize.less` sets `[hidden] { display: none; }` but bootstrap.min.css set `[hidden] { display: none !important; }` so we also need the `!important` here to be able to override the default hidden behavior on the sphinx rendered scikit-learn.org. See: https://github.com/scikit-learn/scikit-learn/issues/21755 */display: inline-block !important;position: relative;}#sk-container-id-22 div.sk-text-repr-fallback {display: none;}</style><div id=\"sk-container-id-22\" class=\"sk-top-container\"><div class=\"sk-text-repr-fallback\"><pre>RandomForestClassifier()</pre><b>In a Jupyter environment, please rerun this cell to show the HTML representation or trust the notebook. <br />On GitHub, the HTML representation is unable to render, please try loading this page with nbviewer.org.</b></div><div class=\"sk-container\" hidden><div class=\"sk-item\"><div class=\"sk-estimator sk-toggleable\"><input class=\"sk-toggleable__control sk-hidden--visually\" id=\"sk-estimator-id-22\" type=\"checkbox\" checked><label for=\"sk-estimator-id-22\" class=\"sk-toggleable__label sk-toggleable__label-arrow\">RandomForestClassifier</label><div class=\"sk-toggleable__content\"><pre>RandomForestClassifier()</pre></div></div></div></div></div>"
      ],
      "text/plain": [
       "RandomForestClassifier()"
      ]
     },
     "execution_count": 177,
     "metadata": {},
     "output_type": "execute_result"
    }
   ],
   "source": [
    "random_forest_model.fit(training_data, target_values)"
   ]
  },
  {
   "cell_type": "code",
   "execution_count": null,
   "id": "7f1dfd45",
   "metadata": {},
   "outputs": [],
   "source": []
  }
 ],
 "metadata": {
  "kernelspec": {
   "display_name": "Python 3 (ipykernel)",
   "language": "python",
   "name": "python3"
  },
  "language_info": {
   "codemirror_mode": {
    "name": "ipython",
    "version": 3
   },
   "file_extension": ".py",
   "mimetype": "text/x-python",
   "name": "python",
   "nbconvert_exporter": "python",
   "pygments_lexer": "ipython3",
   "version": "3.8.10"
  }
 },
 "nbformat": 4,
 "nbformat_minor": 5
}
